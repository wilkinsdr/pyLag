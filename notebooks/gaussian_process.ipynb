{
 "cells": [
  {
   "cell_type": "markdown",
   "id": "6b023bc1-0be0-4c27-af97-4fd634c24775",
   "metadata": {},
   "source": [
    "## Gaussian process analysis of X-ray time lags\n",
    "\n",
    "This notebook uses the pyLag X-ray spectral timing package to perform spectral-timing analysis on unevenly sampled light curves, or light curves with gaps. We will estimate the lag-frequency and lag-energy spectra from unevenly sampled light curves by fitting a Gaussian process to the light curve in each energy band. Once the Gaussian processes have been fitted to the observed light curve data points, samples of the underlying continuous time series are drawn, and a single sample of the lag-energy spectrum is calculated from these sampled light curves. The mean lag-energy spectrum and its errors are estimated from the calculated sample. \n",
    "\n",
    "This notebook follows the Gaussian process method presented in Wilkins 2019, MNRAS 489, 1957 (https://arxiv.org/abs/1908.06099). Please cite this paper if you make use of any of these methods.\n",
    "\n",
    "Requires the pylag package to be installed, in addition to scikit-learn for the Gaussian process engine (in addition to their dependencies).\n",
    "\n",
    "D.R. Wilkins (August 2024)"
   ]
  },
  {
   "metadata": {},
   "cell_type": "markdown",
   "source": [
    "### Fitting the Gaussian process to a pair of light curves light curves for the lag-frequency spectrum\n",
    "\n",
    "The first step is to fit the Gaussian process model to each light curve we wish to use for the spectral timing analysis. We can fit a Gaussian process to a light curve using the GPLightCurve class. This class provides all of the same functionality as a standard LightCurve, but with the capability to perform the Gaussian process modelling.\n",
    "\n",
    "We need to select the Gaussian process kernel to use, which describes the autocorrelation function of the intrinsic variability. Depending on the length of the gaps in the list curves and the timescales of interest, the most appropriate options are either 'rq' (the rational quadratic kernel) or 'matern12' (the Matern-1/2 kernel), although any kernel function from scikit-learn can be used.\n",
    "\n",
    "We can choose how to model the uncorrelated noise between each time bin (i.e. the Poisson noise). We can either directly use the error bars (use_errors=True) or we can add the noise term into the kernel function (noise_kernel=True). Note that these options are mutually exclusive.\n",
    "\n",
    "We can also select whether to model the light curve as the log of the count rate in each time bin (lognorm=True), which may be appropriate for systems in which the variability follows a log-normal distribution.\n",
    "\n",
    "The remove_nan and remove_gaps options clean up any zero-count time bins in the original light curves that may be in place of the gaps (the light curves that are passed to the Gaussian process classes should simply have the time bins missing where no data are available).\n",
    "\n",
    "The run_fit=True option will run the Gaussian process model fit for each light curve immediately.\n",
    "\n",
    "The GPLightCurve class can either read the light curve directly from a FITS file, or it can be passed an existing LightCurve object with the lc=my_lightcurve argument. This allows us to perform various operations on the light curve before fitting, such as concatenating segmetns from multiple observations into a single long light curve."
   ],
   "id": "83fb25e4a91d3223"
  },
  {
   "metadata": {},
   "cell_type": "code",
   "outputs": [],
   "execution_count": null,
   "source": [
    "gplc1 = GPLightCurve('lightcurves/lc1.lc', kernel='rq', lognorm=False, noise_kernel=True, use_errors=False, remove_gaps=True, remove_nan=True, run_fit=True)\n",
    "gplc2 = GPLightCurve('lightcurves/lc2.lc', kernel='rq', lognorm=False, noise_kernel=True, use_errors=False, remove_gaps=True, remove_nan=True, run_fit=True)"
   ],
   "id": "2b5f75fff23cbbf5"
  },
  {
   "metadata": {},
   "cell_type": "markdown",
   "source": "We can plot the original light curve simply using Plot(gplc1), or we can draw a single sample from the Gaussian process model using gplc1.sample(n_samples=1), which we can then plot like any other LightCurve object. We can also marginalise the prediction for the light curve in the gaps over many samples using gplc1.predict(). Plotting these on top of each other to see how the Gaussian process predicts the underlying variability:",
   "id": "a14d3cfb99a792dd"
  },
  {
   "metadata": {},
   "cell_type": "code",
   "outputs": [],
   "execution_count": null,
   "source": [
    "sample_lc = gplc1.sample(n_samples=1)\n",
    "prediction_lc = gplc1.predict()\n",
    "Plot([gplc1, sample_lc, prediction_lc], fig_size=(10,3))"
   ],
   "id": "1f5b21b07cd12f87"
  },
  {
   "metadata": {},
   "cell_type": "markdown",
   "source": [
    "## Sampling the lag-frequency spectrum\n",
    "\n",
    "Once the Gaussian process models have been fit to the pair of light curves, we can use them to sample the lag-frequency spectrum. The GPLagFrequencySpectrum class will automatically draw samples from each of the Gaussian process light curve models, then compute the time lags between them, repeating the process to obtain samples of the lag spectrum.\n",
    "\n",
    "GPLagFrequencySpectrum takes many of the same options as the standard LagFrequencySpectrum class. We specify the frequency bins in which we wish to calculate the lags, and the number of samples we want to use to estimate the mean and error of the lags.\n",
    "\n",
    "The low_mem option will calculate the lag spectrum of the samples one at a time. Turning this off will calculate the samples in parallel, which requires much more memory (although is faster)."
   ],
   "id": "f6fe7277118b1d3c"
  },
  {
   "metadata": {},
   "cell_type": "code",
   "outputs": [],
   "execution_count": null,
   "source": "gplf = GPLagFrequencySpectrum(fbins, gplc1=gplc1, gplc2=gplc2, n_samples=1000, low_mem=True)",
   "id": "575555fe2d617880"
  },
  {
   "metadata": {},
   "cell_type": "markdown",
   "source": "Now we can plot the results and save them in a text file",
   "id": "22051dd6b8e90149"
  },
  {
   "metadata": {},
   "cell_type": "code",
   "outputs": [],
   "execution_count": null,
   "source": [
    "Plot(gplf)\n",
    "write_data(gple, 'gplf_results.dat')"
   ],
   "id": "d49201193e9c4103"
  },
  {
   "cell_type": "markdown",
   "id": "715c58dc-e933-41ba-88de-cab2185530c6",
   "metadata": {},
   "source": [
    "### Fitting the Gaussian process to light curves for the lag-energy spectrum\n",
    "\n",
    "We will need to load a list of light curves in each energy band. This is handled by the EnergyLCList object, which reads a collection of FITS light curve files for different energy bands, collected over a number of observations (each individual file should be the light curve in a specific energy band from one observation). The energy corresponding to each light curve is read from the filename (see the pyLag documentation for details of how the files should be named). We also specify the frequency range over which to calculate the lag-energy spectrum. We will change this interactively, but we just need to specify some starting values to get everything set up.\n",
    "\n",
    "Once we have loaded the light curves, we can fit a Gaussian process to each one using the GPEnergyLCList object. We need to select the Gaussian process kernel to use, and can set the other options for handling noise and pre-processing the light curve as above.\n",
    "\n",
    "The run_fit=True option will run the Gaussian process model fit for each light curve immediately."
   ]
  },
  {
   "cell_type": "code",
   "execution_count": 7,
   "id": "23dec0de-0abe-4607-83cc-97c83a7f058d",
   "metadata": {},
   "source": "lclist = EnergyLCList('lightcurves/for_lagen/*.lc', interp_gaps=True)",
   "outputs": []
  },
  {
   "metadata": {},
   "cell_type": "code",
   "outputs": [],
   "execution_count": null,
   "source": "gplclclist = GPEnergyLCList(enlclist=lclist, kernel='rq', lognorm=False, noise_kernel=True, use_errors=False, remove_gaps=True, remove_nan=True, run_fit=True)",
   "id": "ed9b3a7777fbd25c"
  },
  {
   "metadata": {},
   "cell_type": "markdown",
   "source": [
    "### Sampling the lag-energy spectrum\n",
    "\n",
    "Now that we have fit the Gaussian process model to the light curves in each energy band, we can use them to sample the lag-energy spectrum. This GPLagEnergySpectrum class will automatically draw samples from each of the Gaussian process light curve models, then compute the time lags between them, repeating the process to obtain samples of the lag spectrum.\n",
    "\n",
    "GPLagEnergySpectrum takes many of the same options as the standard LagEnergySpectrum class. We specify the frequency interval over which we wish to calculate the time lags (fmin and fmax), and the number of samples we want to use to estimate the mean and error of the lags. As in a conventional Fourier spectral timing analysis, we may with to use the lag-frequency spectrum to estimate the frequency range in which the reverberation appears.\n",
    "\n",
    "The low_mem option will calculate the lag spectrum of the samples one at a time. Turning this off will calculate the samples in parallel, which requires *much* more memory (although is faster).\n",
    "\n",
    "The save_samples option will store the individual lag-energy spectra from each set of samples drawn from the Gaussian processes in an array. This can be useful for parallelising the calculation of many sets of samples, or to perform further statistical analysis on the population of samples. If this option is off, only the mean and error will be stored in the gple.lag and gple.error array."
   ],
   "id": "ddc14a5823b69387"
  },
  {
   "metadata": {},
   "cell_type": "code",
   "outputs": [],
   "execution_count": null,
   "source": [
    "fmin, fmax = 1e-4, 1e-3\n",
    "gple = GPLagEnergySpectrum(fmin, fmax, gplclist=gplclist, n_samples=1000, low_mem=True, save_samples=False)"
   ],
   "id": "8eb8ad6b2a4b6146"
  },
  {
   "metadata": {},
   "cell_type": "markdown",
   "source": "Againn we can plot the resuls and save them in a text file",
   "id": "113f81136c807c3a"
  },
  {
   "metadata": {},
   "cell_type": "code",
   "outputs": [],
   "execution_count": null,
   "source": [
    "Plot(gple)\n",
    "write_data(gple, 'gple_results.dat')"
   ],
   "id": "ea542013e514185f"
  }
 ],
 "metadata": {
  "kernelspec": {
   "display_name": "Python 3 (ipykernel)",
   "language": "python",
   "name": "python3"
  },
  "language_info": {
   "codemirror_mode": {
    "name": "ipython",
    "version": 3
   },
   "file_extension": ".py",
   "mimetype": "text/x-python",
   "name": "python",
   "nbconvert_exporter": "python",
   "pygments_lexer": "ipython3",
   "version": "3.12.3"
  }
 },
 "nbformat": 4,
 "nbformat_minor": 5
}
