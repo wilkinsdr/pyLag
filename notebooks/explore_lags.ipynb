{
 "cells": [
  {
   "cell_type": "markdown",
   "id": "6b023bc1-0be0-4c27-af97-4fd634c24775",
   "metadata": {},
   "source": [
    "## X-ray time lag explorer\n",
    "\n",
    "This notebook uses the pyLag X-ray spectral timing package to interactively explore time lags as a function of Fourier frequency, and can be used to look for X-ray reverberation signals from the inner accretion disc.\n",
    "\n",
    "Requires the pylag and ipympl packages to be installed (in addition to their dependencies).\n",
    "\n",
    "D.R. Wilkins (May 2024)"
   ]
  },
  {
   "cell_type": "code",
   "execution_count": 2,
   "id": "178da458-6ded-4c14-8e35-77c1f45a23d6",
   "metadata": {},
   "outputs": [],
   "source": [
    "%matplotlib inline\n",
    "from pylag import *\n",
    "from ipywidgets import interactive, FloatSlider, IntSlider\n",
    "from matplotlib.patches import Rectangle"
   ]
  },
  {
   "cell_type": "markdown",
   "id": "d3bf5dc1-251c-4a65-8474-aaa16b0cf0a1",
   "metadata": {},
   "source": [
    "### Lag-frequency spectrum\n",
    "\n",
    "First we explore the lag vs. frequency spectrum to understand how the time lags vary as a function of Fourier frequency.\n",
    "\n",
    "We will compute the lag-frequency spectrum between the reflection-dominated soft X-ray band (0.3-1keV) and the continuum-dominated hard X-ray band.\n",
    "\n",
    "We load a list of light curves in each energy band where each light curve in the list is the light curve obtained from one single observation. The lag-frequency spectrum will be averaged over all of the observations. The get_lclist function can either take the name of a single FITS file containing a light curve, or we can specify a 'glob' (the * notation to select multiple filenames in the normal way).\n",
    "\n",
    "We also need to specify the frequency bins for the spectrum. We will start with 10 bins, but then later on we will have the option to adjust the bins interactively.\n",
    "\n",
    "In the lag-frequency spectrum, by convention, a positive lag corresponds to variations in the hard X-ray band lagging behind those in the soft X-ray band. In this case, reverberation corresponds to the soft X-ray band (which is most strongly dominated by the reflection) lagging begind the hard band (dominated by the continuum), so reverberation from the disc is detected over ranges of Fourier frequency in which the lag is negative.\n",
    "\n",
    "The light curves may have gaps due to the filtering of background flares (particularly for XMM-Newton data). If there are gaps in the light curves we will need to specify interp_gaps=True to interpolate over them. Alternatively, we can use light curve files in which time-based filtering for background flares has not been performed."
   ]
  },
  {
   "cell_type": "code",
   "execution_count": 4,
   "id": "65f1fcba-8f35-4a9c-94c9-c1e572d1db3b",
   "metadata": {},
   "outputs": [
    {
     "name": "stderr",
     "output_type": "stream",
     "text": [
      "/home/drw/python/pylag/pylag/lightcurve.py:373: RuntimeWarning: invalid value encountered in sqrt\n",
      "  new_error[gap_start:gap_end] = np.sqrt(new_rate[gap_start:gap_end] / self.dt)\n",
      "/home/drw/python/pylag/pylag/coherence.py:176: RuntimeWarning: invalid value encountered in sqrt\n",
      "  return np.sqrt((1 - coh) / (2 * coh * num_freq))\n"
     ]
    }
   ],
   "source": [
    "lc_hard = get_lclist('lightcurves/for_lagfreq/*tbin10_en1200-4000.lc_corr', interp_gaps=True)\n",
    "lc_soft = get_lclist('lightcurves/for_lagfreq/*tbin10_en300-1000.lc_corr', interp_gaps=True)\n",
    "lf = LagFrequencySpectrum(10, lc_hard, lc_soft)"
   ]
  },
  {
   "cell_type": "code",
   "execution_count": 5,
   "id": "17a29605-8f6b-467a-b7f7-09d5834b4cdc",
   "metadata": {},
   "outputs": [],
   "source": [
    "def interact_lagfreq(fmin, fmax, Nf):\n",
    "    lf.bins = LogBinning(10**fmin, 10**fmax, Nf)\n",
    "    p = Plot(lf)\n",
    "interactive_lagfreq = interactive(interact_lagfreq, fmin=FloatSlider(min=-6, max=-2, step=0.1, value=-5), fmax=FloatSlider(min=-6, max=-2, step=0.1, value=-2), Nf=IntSlider(min=1, max=50, step=1, value=20))\n",
    "output_lf = interactive_lagfreq.children[-1]\n",
    "output_lf.layout.height = '500px'"
   ]
  },
  {
   "cell_type": "code",
   "execution_count": 6,
   "id": "0c1e782a-9e3d-47ae-b140-96176b82fba2",
   "metadata": {},
   "outputs": [
    {
     "data": {
      "application/vnd.jupyter.widget-view+json": {
       "model_id": "c68d457e55ca44bc859630e7cb34b1ce",
       "version_major": 2,
       "version_minor": 0
      },
      "text/plain": [
       "interactive(children=(FloatSlider(value=-5.0, description='fmin', max=-2.0, min=-6.0), FloatSlider(value=-2.0,…"
      ]
     },
     "execution_count": 6,
     "metadata": {},
     "output_type": "execute_result"
    }
   ],
   "source": [
    "interactive_lagfreq"
   ]
  },
  {
   "cell_type": "markdown",
   "id": "715c58dc-e933-41ba-88de-cab2185530c6",
   "metadata": {},
   "source": [
    "### Lag-energy spectrum\n",
    "\n",
    "Now that we have an understanding of how the time lags evolve with frequency, we can explore the energy-dependence of the time lags (i.e. the relative times at which corresponding variations are seen at different X-ray energies) using the lag-energy spectrum in a specfic range of frequencies.\n",
    "\n",
    "We will need to load a list of light curves in each energy band. This is handled by the EnergyLCList object, which reads a collection of FITS light curve files for different energy bands, collected over a number of observations (each individual file should be the light curve in a specific energy band from one observation). The energy corresponding to each light curve is read from the filename (see the pyLag documentation for details of how the files should be named). We also specify the frequency range over which to calculate the lag-energy spectrum. We will change this interactively, but we just need to specify some starting values to get everything set up.\n",
    "\n",
    "As above, the light curves may have gaps due to the filtering of background flares (particularly for XMM-Newton data). If there are gaps in the light curves we will need to specify interp_gaps=True to interpolate over them. Alternatively, we can use light curve files in which time-based filtering for background flares has not been performed.\n",
    "\n",
    "The lag-energy spectrum will be plotted next to the lag-ferquency spectrum from above (use the above controls to change the binning of the lag-frequency spectrum). Use the sliders to adjust the frequency range over which the lag-energy spectrum is computed (they correspond to the log10 of the centre of the frequency range, and the width of the range in dex).\n",
    "\n",
    "If you select a range in which the lag-frequency plot is positive, you should see the hard X-ray lag (attributed to the propgation of luminosity fluctuations through the corona). If you select a range in which the lag-frequency spectrum turns negative, you may see reverberation from the accretion disc. In this case, the lag-energy spectrum should look like the reflection spectrum and should show the soft excess as well as the broad iron K line lagging behind the continuum-dominated bands."
   ]
  },
  {
   "cell_type": "code",
   "execution_count": 7,
   "id": "23dec0de-0abe-4607-83cc-97c83a7f058d",
   "metadata": {},
   "outputs": [
    {
     "name": "stderr",
     "output_type": "stream",
     "text": [
      "/usr/lib64/python3.12/site-packages/numpy/lib/function_base.py:1599: RuntimeWarning: invalid value encountered in cast\n",
      "  return interp_func(x, xp, fp, left, right)\n"
     ]
    }
   ],
   "source": [
    "fmin, fmax = 3e-4, 1e-3\n",
    "lcl = EnergyLCList('lightcurves/for_lagen/0890670201*.lc_corr', interp_gaps=True)\n",
    "le = LagEnergySpectrum(fmin, fmax, lcl)"
   ]
  },
  {
   "cell_type": "code",
   "execution_count": 8,
   "id": "fe563031-0812-4e25-8020-08dfd818116f",
   "metadata": {},
   "outputs": [],
   "source": [
    "def interact_lagfreq_lagen(fcent, fwidth):\n",
    "    fmin, fmax = 10**(fcent - fwidth/2), 10**(fcent + fwidth/2)\n",
    "    le.freq_range = (fmin, fmax)\n",
    "    p = MultiPlot([lf, le], cols=True, sharex=False, wspace=0.25, figsize=(14,4))\n",
    "    ylim = p[0]._ax.get_ylim()\n",
    "    p[0]._ax.add_patch(Rectangle((fmin, ylim[0]), fmax-fmin, ylim[1]-ylim[0], facecolor='C0', alpha=0.25))\n",
    "    \n",
    "interactive_lagfreq_lagen = interactive(interact_lagfreq_lagen, fcent=FloatSlider(min=-6, max=-2, step=0.01, value=-4), fwidth=FloatSlider(min=0.1, max=1, step=0.01, value=0.5))\n",
    "output_lf_le = interactive_lagfreq_lagen.children[-1]\n",
    "output_lf_le.layout.height = '450px'"
   ]
  },
  {
   "cell_type": "code",
   "execution_count": 9,
   "id": "313db2a9-a97c-4643-98cc-b1f41955dbaa",
   "metadata": {},
   "outputs": [
    {
     "data": {
      "application/vnd.jupyter.widget-view+json": {
       "model_id": "89c1b9c63a1c4becafe75f7299b1c641",
       "version_major": 2,
       "version_minor": 0
      },
      "text/plain": [
       "interactive(children=(FloatSlider(value=-4.0, description='fcent', max=-2.0, min=-6.0, step=0.01), FloatSlider…"
      ]
     },
     "execution_count": 9,
     "metadata": {},
     "output_type": "execute_result"
    }
   ],
   "source": [
    "interactive_lagfreq_lagen"
   ]
  },
  {
   "cell_type": "code",
   "execution_count": null,
   "id": "2f1ccf99-576b-44c0-89bd-2d1de942c029",
   "metadata": {},
   "outputs": [],
   "source": []
  }
 ],
 "metadata": {
  "kernelspec": {
   "display_name": "Python 3 (ipykernel)",
   "language": "python",
   "name": "python3"
  },
  "language_info": {
   "codemirror_mode": {
    "name": "ipython",
    "version": 3
   },
   "file_extension": ".py",
   "mimetype": "text/x-python",
   "name": "python",
   "nbconvert_exporter": "python",
   "pygments_lexer": "ipython3",
   "version": "3.12.3"
  }
 },
 "nbformat": 4,
 "nbformat_minor": 5
}
